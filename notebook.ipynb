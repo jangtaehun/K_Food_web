{
 "cells": [
  {
   "cell_type": "code",
   "execution_count": 1,
   "metadata": {},
   "outputs": [
    {
     "name": "stderr",
     "output_type": "stream",
     "text": [
      "/Users/jangtaehun/Desktop/K_Food/env/lib/python3.10/site-packages/langchain/llms/openai.py:216: UserWarning: You are trying to use a chat model. This way of initializing it is no longer supported. Instead, please use: `from langchain.chat_models import ChatOpenAI`\n",
      "  warnings.warn(\n",
      "/Users/jangtaehun/Desktop/K_Food/env/lib/python3.10/site-packages/langchain/llms/openai.py:811: UserWarning: You are trying to use a chat model. This way of initializing it is no longer supported. Instead, please use: `from langchain.chat_models import ChatOpenAI`\n",
      "  warnings.warn(\n"
     ]
    }
   ],
   "source": [
    "from langchain.llms import OpenAI\n",
    "from langchain.chat_models import ChatOpenAI\n",
    "from langchain.schema import HumanMessage, AIMessage, SystemMessage\n",
    "from langchain.prompts import PromptTemplate, ChatPromptTemplate\n",
    "\n",
    "\n",
    "llm = OpenAI(model_name=\"gpt-3.5-turbo-1106\")\n",
    "# llm.predict(\"개발할 수 있읅까 내가?\")"
   ]
  },
  {
   "cell_type": "code",
   "execution_count": null,
   "metadata": {},
   "outputs": [
    {
     "name": "stderr",
     "output_type": "stream",
     "text": [
      "/Users/jangtaehun/Desktop/K_Food/env/lib/python3.10/site-packages/langchain/llms/openai.py:216: UserWarning: You are trying to use a chat model. This way of initializing it is no longer supported. Instead, please use: `from langchain.chat_models import ChatOpenAI`\n",
      "  warnings.warn(\n",
      "/Users/jangtaehun/Desktop/K_Food/env/lib/python3.10/site-packages/langchain/llms/openai.py:811: UserWarning: You are trying to use a chat model. This way of initializing it is no longer supported. Instead, please use: `from langchain.chat_models import ChatOpenAI`\n",
      "  warnings.warn(\n"
     ]
    },
    {
     "data": {
      "text/plain": [
       "'불고기에 대해 알려줘'"
      ]
     },
     "execution_count": 12,
     "metadata": {},
     "output_type": "execute_result"
    }
   ],
   "source": [
    "chat = ChatOpenAI(temperature=0.1)\n",
    "\n",
    "template = PromptTemplate.from_template('{food}에 대해 알려줘',)\n",
    "prompt = template.format(food='불고기')\n",
    "chat.predict(prompt)\n",
    "\n"
   ]
  },
  {
   "cell_type": "code",
   "execution_count": 18,
   "metadata": {},
   "outputs": [
    {
     "data": {
      "text/plain": [
       "AIMessage(content='Bulgogi is a popular Korean dish made with thinly sliced beef marinated in a mixture of soy sauce, sugar, sesame oil, garlic, and other ingredients. The name \"Bulgogi\" is pronounced as \"bool-goh-gee.\" \\n\\nThe marinated beef is usually grilled or pan-fried, giving it a delicious sweet and savory flavor. Bulgogi is often served with rice, lettuce leaves, and various side dishes such as kimchi. To enjoy Bulgogi, you can wrap a piece of the grilled beef in a lettuce leaf, add some rice and ssamjang (spicy paste), and then eat it in one bite.\\n\\nIt\\'s important to note that Bulgogi may contain soy sauce, which can be a common allergen for some individuals. If you have a soy allergy, it\\'s best to check with the restaurant or chef to ensure that the dish is safe for you to consume.')"
      ]
     },
     "execution_count": 18,
     "metadata": {},
     "output_type": "execute_result"
    }
   ],
   "source": [
    "template = ChatPromptTemplate.from_messages([\n",
    "    (\"system\", \"너는 외국인에게 한식을 알려주는 전문가야. 항상 영어로만 답해줘야해. 그리고 음식에 관한 정보로 항상 매우 정확해야해. 한식 이름을 알려주면 한식을 어떻게 발음하는지, 어떤 재료가 들어가는지, 어떤 맛인지 어떻게 먹는지 자세하게 알려줘야해. 그리고 추가적으로 알러지를 일으킬 수 있는 지에 대해서도 알려줘.\"),\n",
    "    # ('ai', 'message')\n",
    "    ('human', '{food}'),\n",
    "])\n",
    "\n",
    "prompt = template.format_messages(\n",
    "    food='불고기'\n",
    ")\n",
    "\n",
    "chat.predict_messages(prompt)"
   ]
  },
  {
   "cell_type": "code",
   "execution_count": 29,
   "metadata": {},
   "outputs": [
    {
     "data": {
      "text/plain": [
       "['얀, 녕, 나, 김, 쫀, 떡']"
      ]
     },
     "execution_count": 29,
     "metadata": {},
     "output_type": "execute_result"
    }
   ],
   "source": [
    "from langchain.schema import BaseOutputParser\n",
    "\n",
    "class CommaOutputParser(BaseOutputParser):\n",
    "    def parse(self, text):\n",
    "        items = text.strip().split('.')\n",
    "        items = [item.replace(\"'\", \"\") for item in items]\n",
    "        return list(map(str.strip, items))\n",
    "    \n",
    "\n",
    "p = CommaOutputParser()\n",
    "p.parse('얀, 녕, 나, 김, 쫀, 떡')"
   ]
  },
  {
   "cell_type": "code",
   "execution_count": 30,
   "metadata": {},
   "outputs": [
    {
     "data": {
      "text/plain": [
       "['Bulgogi is pronounced as \"bool-goh-gee',\n",
       " '\" It is a popular Korean dish made with thinly sliced beef marinated in a mixture of soy sauce, sugar, sesame oil, garlic, and pepper',\n",
       " 'Bulgogi is known for its sweet and savory flavor profile',\n",
       " 'It is typically grilled or stir-fried and served with rice, lettuce leaves, and various side dishes',\n",
       " 'Please note that bulgogi may contain soy and sesame, which are common allergens for some individuals',\n",
       " '']"
      ]
     },
     "execution_count": 30,
     "metadata": {},
     "output_type": "execute_result"
    }
   ],
   "source": [
    "template = ChatPromptTemplate.from_messages([\n",
    "    ('system', '너는 외국인에게 한식을 알려주는 전문가야. 항상 영어로만 답해줘야해. 그리고 음식에 관한 정보로 항상 매우 정확해야해. 한식 이름을 알려주면 한식을 어떻게 발음하는지, 어떤 재료가 들어가는지, 어떤 맛인지 어떻게 먹는지 자세하게 알려줘야해. 그리고 추가적으로 알러지를 일으킬 수 있는 지에 대해서도 알려줘. list ype이 아닌 것으로는 답하지 말고  comma로 구분되는 list type으로 말해줘'),\n",
    "    ('human', '{food}'),\n",
    "]\n",
    ")\n",
    "\n",
    "prompt = template.format_messages(\n",
    "    food='불고기'\n",
    ")\n",
    "\n",
    "result = chat.predict_messages(prompt)\n",
    "\n",
    "p = CommaOutputParser()\n",
    "p.parse(result.content)"
   ]
  },
  {
   "cell_type": "code",
   "execution_count": null,
   "metadata": {},
   "outputs": [],
   "source": []
  },
  {
   "cell_type": "code",
   "execution_count": null,
   "metadata": {},
   "outputs": [],
   "source": []
  },
  {
   "cell_type": "code",
   "execution_count": null,
   "metadata": {},
   "outputs": [],
   "source": []
  },
  {
   "cell_type": "code",
   "execution_count": 3,
   "metadata": {},
   "outputs": [],
   "source": [
    "from langchain.schema import BaseOutputParser\n",
    "\n",
    "class CommaOutputParser(BaseOutputParser):\n",
    "    def parse(self, text):\n",
    "        items = text.strip().split('.')\n",
    "        items = [item.replace(\"'\", \"\") for item in items]\n",
    "        return list(map(str.strip, items))"
   ]
  },
  {
   "cell_type": "code",
   "execution_count": null,
   "metadata": {},
   "outputs": [
    {
     "name": "stdout",
     "output_type": "stream",
     "text": [
      "Gam-ja-tang is a hearty Korean stew made with pork spine, potatoes, vegetables, and seasonings. It has a rich and savory flavor with a slightly spicy kick. To enjoy gamjatang, simply scoop out the tender meat and vegetables from the broth and eat them with a bowl of rice. Be careful, as gamjatang may contain allergens such as pork and spicy seasonings."
     ]
    },
    {
     "data": {
      "text/plain": [
       "['Gam-ja-tang is a hearty Korean stew made with pork spine, potatoes, vegetables, and seasonings',\n",
       " 'It has a rich and savory flavor with a slightly spicy kick',\n",
       " 'To enjoy gamjatang, simply scoop out the tender meat and vegetables from the broth and eat them with a bowl of rice',\n",
       " 'Be careful, as gamjatang may contain allergens such as pork and spicy seasonings',\n",
       " '']"
      ]
     },
     "execution_count": 4,
     "metadata": {},
     "output_type": "execute_result"
    }
   ],
   "source": [
    "from langchain.callbacks import StreamingStdOutCallbackHandler\n",
    "\n",
    "chat = ChatOpenAI(temperature=0.1, streaming=True, callbacks=[StreamingStdOutCallbackHandler()])\n",
    "\n",
    "chef_template = ChatPromptTemplate.from_messages([\n",
    "    ('system', '너는 외국인에게 한식을 알려주는 전문가야. 항상 영어로만 답해줘야해. 그리고 음식에 관한 정보로 항상 매우 정확해야해. 한식 이름을 알려주면 한식을 어떻게 발음하는지, 어떤 재료가 들어가는지, 어떤 맛인지 어떻게 먹는지 자세하게 알려줘야해. 그리고 추가적으로 알러지를 일으킬 수 있는 지에 대해서도 알려줘. list ype이 아닌 것으로는 답하지 말고  comma로 구분되는 list type으로 말해줘.'),\n",
    "    ('human', '{cuisine}'),\n",
    "])\n",
    "\n",
    "chef_chain = chef_template | chat | CommaOutputParser()\n",
    "# chain_2 = template_2 | chat | CommaOutputParser()\n",
    "# all = chain | chain_2 | outputparser\n",
    "\n",
    "chef_chain.invoke({\n",
    "    \"cuisine\": '감자탕'\n",
    "})"
   ]
  },
  {
   "cell_type": "code",
   "execution_count": null,
   "metadata": {},
   "outputs": [],
   "source": []
  },
  {
   "cell_type": "code",
   "execution_count": null,
   "metadata": {},
   "outputs": [],
   "source": []
  },
  {
   "cell_type": "code",
   "execution_count": 9,
   "metadata": {},
   "outputs": [],
   "source": [
    "examples = [\n",
    "    {\n",
    "        \"question\": \"불고기\",\n",
    "        \"answer\": \"\"\"\n",
    "        Pronounced: \"bool-goh-gee\"\n",
    "        Explain:\n",
    "        Bulgogi is a popular Korean dish made with thinly sliced beef marinated in a mixture of soy sauce, sugar, sesame oil, garlic, and pepper.\n",
    "        It is known for its sweet and savory flavor profile. Bulgogi is typically grilled or pan-fried and often served with rice, lettuce leaves, and ssamjang (a spicy dipping sauce).\n",
    "\n",
    "        Allergy:\n",
    "        Please note that bulgogi may contain soy and sesame, which are common allergens for some individuals.\n",
    "        \"\"\"\n",
    "    },\n",
    "    {\n",
    "        \"question\": \"순대국\",\n",
    "        \"answer\": \"\"\"\n",
    "        Pronounced: \"soon-dae-guk\"\n",
    "        Explain:\n",
    "        Soondae guk is a traditional Korean soup made with blood sausage (soondae), vegetables, and sometimes noodles.\n",
    "        The soup has a rich and savory flavor, with the blood sausage providing a unique texture.\n",
    "        It is often enjoyed as a comforting and hearty meal, especially during colder months.\n",
    "\n",
    "        Allergy:\n",
    "        Please note that soondae guk contains blood sausage, which may be an allergen for some individuals.\n",
    "        \"\"\"\n",
    "    },\n",
    "    {\n",
    "        \"question\": \"감자탕\",\n",
    "        \"answer\": \"\"\"\n",
    "        Pronounced: \"gam-ja-tang\"\n",
    "        Explain:\n",
    "        Gamjatang is a traditional Korean soup made with pork spine, potatoes, and a variety of vegetables.\n",
    "        The soup has a rich and hearty flavor, with a mildly spicy broth seasoned with red chili paste, garlic, and fermented soybean paste.\n",
    "        It is often enjoyed as a comforting meal and is especially popular during colder seasons or as a late-night dish.\n",
    "\n",
    "        Allergy:\n",
    "        Please note that gamjatang contains pork and soybean-based seasonings, which may be allergens for some individuals.\n",
    "        \"\"\"\n",
    "    }\n",
    "\n",
    "]\n"
   ]
  },
  {
   "cell_type": "code",
   "execution_count": null,
   "metadata": {},
   "outputs": [
    {
     "name": "stdout",
     "output_type": "stream",
     "text": [
      "Pronounced: \"je-yook-bokkeum\"\n",
      "Explain:\n",
      "Jeyuk bokkeum is a popular Korean stir-fried pork dish marinated in a spicy-sweet sauce made with gochujang (red chili paste), soy sauce, garlic, and sugar.\n",
      "It is often cooked with vegetables like onions and green peppers and served with rice, making it a flavorful and satisfying meal.\n",
      "\n",
      "Allergy:\n",
      "Please note that jeyuk bokkeum contains pork and soy-based ingredients, which may be allergens for some individuals."
     ]
    },
    {
     "data": {
      "text/plain": [
       "AIMessageChunk(content='Pronounced: \"je-yook-bokkeum\"\\nExplain:\\nJeyuk bokkeum is a popular Korean stir-fried pork dish marinated in a spicy-sweet sauce made with gochujang (red chili paste), soy sauce, garlic, and sugar.\\nIt is often cooked with vegetables like onions and green peppers and served with rice, making it a flavorful and satisfying meal.\\n\\nAllergy:\\nPlease note that jeyuk bokkeum contains pork and soy-based ingredients, which may be allergens for some individuals.')"
      ]
     },
     "execution_count": 14,
     "metadata": {},
     "output_type": "execute_result"
    }
   ],
   "source": [
    "from langchain.callbacks import StreamingStdOutCallbackHandler\n",
    "from langchain.prompts.few_shot import FewShotChatMessagePromptTemplate\n",
    "from langchain.prompts import load_prompt\n",
    "\n",
    "# prompt = load_prompt(\"./prompt.json\")\n",
    "chat = ChatOpenAI(temperature=0.1, streaming=True, callbacks=[StreamingStdOutCallbackHandler()])\n",
    "\n",
    "\n",
    "\n",
    "example_template = \"\"\"\n",
    "    Human: {question}\n",
    "    AI: {answer}\n",
    "\"\"\"\n",
    "\n",
    "example_prompt = ChatPromptTemplate.from_messages([\n",
    "    (\"human: {question}\"),\n",
    "    (\"ai\", \"{answer}\")\n",
    "])\n",
    "\n",
    "example_prompt = FewShotChatMessagePromptTemplate(\n",
    "    example_prompt=example_prompt,\n",
    "    examples=examples,\n",
    ")\n",
    "\n",
    "final_prompt = ChatPromptTemplate.from_messages([\n",
    "    (\"system\", \"너는 외국인에게 음식에 대해 알려주는 음식 설명 전문가야. 짧게 두 문장으로 설명해줘. 여러 개의 음식이 들어오면 둘 다 알려줘\"),\n",
    "    example_prompt,\n",
    "    (\"human\", \"{food}\")\n",
    "])\n",
    "\n",
    "\n",
    "\n",
    "chain = final_prompt | chat\n",
    "\n",
    "chain.invoke(\n",
    "    {\n",
    "        \"food\": \"제육볶음\"\n",
    "    }\n",
    ")"
   ]
  },
  {
   "cell_type": "code",
   "execution_count": null,
   "metadata": {},
   "outputs": [],
   "source": []
  },
  {
   "cell_type": "code",
   "execution_count": null,
   "metadata": {},
   "outputs": [],
   "source": []
  },
  {
   "cell_type": "code",
   "execution_count": null,
   "metadata": {},
   "outputs": [],
   "source": []
  },
  {
   "cell_type": "code",
   "execution_count": null,
   "metadata": {},
   "outputs": [],
   "source": []
  }
 ],
 "metadata": {
  "kernelspec": {
   "display_name": "env",
   "language": "python",
   "name": "python3"
  },
  "language_info": {
   "codemirror_mode": {
    "name": "ipython",
    "version": 3
   },
   "file_extension": ".py",
   "mimetype": "text/x-python",
   "name": "python",
   "nbconvert_exporter": "python",
   "pygments_lexer": "ipython3",
   "version": "3.10.11"
  }
 },
 "nbformat": 4,
 "nbformat_minor": 2
}
